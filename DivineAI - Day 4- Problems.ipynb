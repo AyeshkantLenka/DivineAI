{
 "cells": [
  {
   "cell_type": "code",
   "execution_count": 20,
   "metadata": {},
   "outputs": [
    {
     "name": "stdout",
     "output_type": "stream",
     "text": [
      "Enter Your Distance to be converted :12\n",
      "Your Distance in miles is 7.456799999999999\n"
     ]
    }
   ],
   "source": [
    "#Python Program to Convert Kilometers to Miles\n",
    "\n",
    "var = float(input(\"Enter Your Distance to be converted :\"))\n",
    "miles = var * 0.6214\n",
    "print(\"Your Distance in miles is \" + str(miles))\n",
    "\n"
   ]
  },
  {
   "cell_type": "code",
   "execution_count": 19,
   "metadata": {},
   "outputs": [
    {
     "name": "stdout",
     "output_type": "stream",
     "text": [
      "Enter Temperature In Celsius :30\n",
      "The Temperature in Fahrenheit is 86.0\n"
     ]
    }
   ],
   "source": [
    "#Python Program to Convert Celsius To Fahrenheit\n",
    "\n",
    "var = float(input(\"Enter Temperature In Celsius :\" ))\n",
    "fah = (var*1.8)+32\n",
    "print(\"The Temperature in Fahrenheit is \"+ str(fah))"
   ]
  },
  {
   "cell_type": "code",
   "execution_count": 27,
   "metadata": {},
   "outputs": [
    {
     "name": "stdout",
     "output_type": "stream",
     "text": [
      "Enter a Number : 0\n",
      "0\n"
     ]
    }
   ],
   "source": [
    "#Python Program to Check if a Number is Positive, Negative or 0\n",
    "\n",
    "num = int(input(\"Enter a Number : \"))\n",
    "if num>0:\n",
    "    print(\"Positive\")\n",
    "elif num<0:\n",
    "    print(\"Negative\")\n",
    "else:\n",
    "    print(\"0\")"
   ]
  },
  {
   "cell_type": "code",
   "execution_count": 32,
   "metadata": {},
   "outputs": [
    {
     "name": "stdout",
     "output_type": "stream",
     "text": [
      "Enter a Number : 24\n",
      "Even\n"
     ]
    }
   ],
   "source": [
    "#Python Program to Check if a Number is Odd or Even\n",
    "\n",
    "num = int(input(\"Enter a Number : \"))\n",
    "if num%2==0:\n",
    "    print(\"Even\")\n",
    "else:\n",
    "    print(\"Odd\")"
   ]
  },
  {
   "cell_type": "code",
   "execution_count": 40,
   "metadata": {},
   "outputs": [
    {
     "name": "stdout",
     "output_type": "stream",
     "text": [
      "Enter the Year : 2000\n",
      "It is a Leap Year\n"
     ]
    }
   ],
   "source": [
    "#Python Program to Check Leap Year\n",
    "\n",
    "year = int(input(\"Enter the Year : \"))\n",
    "if year%400==0 :\n",
    "    print(\"It is a Leap Year\")\n",
    "elif year%100==0 :\n",
    "    print(\"It is not a Leap year\")\n",
    "elif year%4==0 :\n",
    "    print(\"It is a Leap year\")\n",
    "else:\n",
    "    print(\"It is not a leap year\")\n",
    "    "
   ]
  },
  {
   "cell_type": "code",
   "execution_count": 44,
   "metadata": {},
   "outputs": [
    {
     "name": "stdout",
     "output_type": "stream",
     "text": [
      "Enter 1st number : 49\n",
      "Enter 2nd number : 27\n",
      "Enter 3rd number : 68\n",
      "68 is the largest number\n"
     ]
    }
   ],
   "source": [
    "#Python Program to Find the Largest Among Three Numbers\n",
    "\n",
    "num1 = int(input(\"Enter 1st number : \"))\n",
    "num2 = int(input(\"Enter 2nd number : \"))\n",
    "num3 = int(input(\"Enter 3rd number : \"))\n",
    "if num1>num2 and num1>num3:\n",
    "    print(str(num1) + \" is the largest number\")\n",
    "elif num2>num3:\n",
    "    print(str(num2) + \" is the largest number\")\n",
    "else:\n",
    "    print(str(num3) + \" is the largest number\")"
   ]
  },
  {
   "cell_type": "code",
   "execution_count": 55,
   "metadata": {},
   "outputs": [
    {
     "name": "stdout",
     "output_type": "stream",
     "text": [
      "Enter a Number : 5\n",
      "5 is a prime number\n",
      "5 is not a prime number\n"
     ]
    }
   ],
   "source": [
    "#Write a Python Program to check if a number is prime or not\n",
    "\n",
    "num = int(input(\"Enter a Number : \"))\n",
    "if num > 1:\n",
    "    for i in range(2, int(num/2)+1):\n",
    "        if (num % i) == 0:\n",
    "            print(num, \"is not a prime number\")\n",
    "            break\n",
    "        else:\n",
    "            print(num, \"is a prime number\")\n",
    "  \n",
    "    else:\n",
    "        print(num, \"is not a prime number\")"
   ]
  }
 ],
 "metadata": {
  "kernelspec": {
   "display_name": "Python 3",
   "language": "python",
   "name": "python3"
  },
  "language_info": {
   "codemirror_mode": {
    "name": "ipython",
    "version": 3
   },
   "file_extension": ".py",
   "mimetype": "text/x-python",
   "name": "python",
   "nbconvert_exporter": "python",
   "pygments_lexer": "ipython3",
   "version": "3.8.5"
  }
 },
 "nbformat": 4,
 "nbformat_minor": 4
}
