{
 "cells": [
  {
   "cell_type": "code",
   "execution_count": 1,
   "metadata": {},
   "outputs": [
    {
     "name": "stdout",
     "output_type": "stream",
     "text": [
      "Input string:  Hii Everyone\n",
      "Length of longest substring without non-repeating characters:  9\n"
     ]
    }
   ],
   "source": [
    "#Python Program Given a string, find the length of the longest substring without repeating characters.\n",
    "\n",
    "\n",
    "def longsubstr(str):\n",
    "    n=len(str)\n",
    "    res=0   \n",
    "    for i in range(n):\n",
    "        visited=[0]*256\n",
    "        for j in range(i,n):\n",
    "            if(visited[ord(str[j])]==True):\n",
    "                break\n",
    "            else:\n",
    "                res=max(res,j-i+1)\n",
    "                visited[ord(str[j])]=True\n",
    "        visited[ord(str[i])]=False\n",
    "    return res\n",
    "str=\"Hii Everyone\"\n",
    "print(\"Input string: \",str)\n",
    "\n",
    "len=longsubstr(str)\n",
    "print(\"Length of longest substring without non-repeating characters: \",len)"
   ]
  },
  {
   "cell_type": "code",
   "execution_count": null,
   "metadata": {},
   "outputs": [],
   "source": [
    "#Python Program Given a list slice it into a 3 equal chunks and revert each list\n",
    "\n",
    "\n",
    "my_list = [10, 20, 30, 40, 50,60, 70, 88, 90]\n",
    "n = 3\n",
    "final = [my_list[i * n:(i + 1) * n] for i in range((len(my_list) + n - 1) // n )]\n",
    "print (final)"
   ]
  },
  {
   "cell_type": "code",
   "execution_count": 13,
   "metadata": {},
   "outputs": [
    {
     "name": "stdout",
     "output_type": "stream",
     "text": [
      "Please Enter any Positive Integer : 2\n",
      "Please Enter Exponent Value : 5\n",
      "The Result of 2 Power 5 = 32\n"
     ]
    }
   ],
   "source": [
    "#write a program to calculate exponents of an input\n",
    "\n",
    "\n",
    "num = int(input(\"Please Enter any Positive Integer : \"))\n",
    "exponent = int(input(\"Please Enter Exponent Value : \"))\n",
    "power = 1\n",
    "\n",
    "for i in range(1, exponent + 1):\n",
    "    power = power * num\n",
    "    \n",
    "print(\"The Result of {0} Power {1} = {2}\".format(num, exponent, power))"
   ]
  },
  {
   "cell_type": "code",
   "execution_count": 1,
   "metadata": {},
   "outputs": [
    {
     "ename": "NameError",
     "evalue": "name 'result' is not defined",
     "output_type": "error",
     "traceback": [
      "\u001b[1;31m---------------------------------------------------------------------------\u001b[0m",
      "\u001b[1;31mNameError\u001b[0m                                 Traceback (most recent call last)",
      "\u001b[1;32m<ipython-input-1-3e67641abe88>\u001b[0m in \u001b[0;36m<module>\u001b[1;34m\u001b[0m\n\u001b[0;32m     12\u001b[0m \u001b[1;32mfor\u001b[0m \u001b[0mi\u001b[0m \u001b[1;32min\u001b[0m \u001b[0mrange\u001b[0m \u001b[1;33m(\u001b[0m\u001b[0mlen\u001b[0m\u001b[1;33m(\u001b[0m\u001b[0mx\u001b[0m\u001b[1;33m)\u001b[0m\u001b[1;33m)\u001b[0m\u001b[1;33m:\u001b[0m\u001b[1;33m\u001b[0m\u001b[1;33m\u001b[0m\u001b[0m\n\u001b[0;32m     13\u001b[0m     \u001b[1;32mfor\u001b[0m \u001b[0mj\u001b[0m \u001b[1;32min\u001b[0m \u001b[0mrange\u001b[0m \u001b[1;33m(\u001b[0m\u001b[0mlen\u001b[0m\u001b[1;33m(\u001b[0m\u001b[0mx\u001b[0m\u001b[1;33m[\u001b[0m\u001b[1;36m0\u001b[0m\u001b[1;33m]\u001b[0m\u001b[1;33m)\u001b[0m\u001b[1;33m)\u001b[0m\u001b[1;33m:\u001b[0m\u001b[1;33m\u001b[0m\u001b[1;33m\u001b[0m\u001b[0m\n\u001b[1;32m---> 14\u001b[1;33m         \u001b[0mresult\u001b[0m\u001b[1;33m[\u001b[0m\u001b[0mi\u001b[0m\u001b[1;33m]\u001b[0m\u001b[1;33m[\u001b[0m\u001b[0mj\u001b[0m\u001b[1;33m]\u001b[0m\u001b[1;33m=\u001b[0m\u001b[0mx\u001b[0m\u001b[1;33m[\u001b[0m\u001b[0mi\u001b[0m\u001b[1;33m]\u001b[0m\u001b[1;33m[\u001b[0m\u001b[0mj\u001b[0m\u001b[1;33m]\u001b[0m\u001b[1;33m*\u001b[0m\u001b[0my\u001b[0m\u001b[1;33m[\u001b[0m\u001b[0mi\u001b[0m\u001b[1;33m]\u001b[0m\u001b[1;33m[\u001b[0m\u001b[0mj\u001b[0m\u001b[1;33m]\u001b[0m\u001b[1;33m\u001b[0m\u001b[1;33m\u001b[0m\u001b[0m\n\u001b[0m\u001b[0;32m     15\u001b[0m \u001b[1;32mfor\u001b[0m \u001b[0mn\u001b[0m \u001b[1;32min\u001b[0m \u001b[0mresult\u001b[0m\u001b[1;33m:\u001b[0m\u001b[1;33m\u001b[0m\u001b[1;33m\u001b[0m\u001b[0m\n\u001b[0;32m     16\u001b[0m      \u001b[0mprint\u001b[0m\u001b[1;33m(\u001b[0m\u001b[0mn\u001b[0m\u001b[1;33m)\u001b[0m\u001b[1;33m\u001b[0m\u001b[1;33m\u001b[0m\u001b[0m\n",
      "\u001b[1;31mNameError\u001b[0m: name 'result' is not defined"
     ]
    }
   ],
   "source": [
    "#write a program to multiply two Matrix \n",
    "\n",
    "x = [[1,2,3],\n",
    "    [4 ,5,6],\n",
    "    [7 ,8,9]]\n",
    "y = [[9,8,7],\n",
    "    [6,5,4],\n",
    "    [3,2,1]]\n",
    "res=[[0,0,0],\n",
    "    [0,0,0],\n",
    "    [0,0,0]]\n",
    "for i in range (len(x)):\n",
    "    for j in range (len(x[0])):\n",
    "        result[i][j]=x[i][j]*y[i][j]\n",
    "for n in result:\n",
    "     print(n)"
   ]
  },
  {
   "cell_type": "code",
   "execution_count": 2,
   "metadata": {},
   "outputs": [
    {
     "name": "stdout",
     "output_type": "stream",
     "text": [
      "Remainder 1\n"
     ]
    }
   ],
   "source": [
    "#write a program to find and print the remainder of two number\n",
    "\n",
    "def find(n, m):\n",
    "    r = n%m\n",
    "    print(\"Remainder\", r)\n",
    "find(10, 3)"
   ]
  },
  {
   "cell_type": "code",
   "execution_count": 3,
   "metadata": {},
   "outputs": [
    {
     "name": "stdout",
     "output_type": "stream",
     "text": [
      "8\n"
     ]
    }
   ],
   "source": [
    "#Python program to compute sum of digits in number\n",
    "\n",
    "def sumDigits(no):\n",
    "    return 0 if no == 0 else int(no % 5) + sumDigits(int(no/5))\n",
    "print(sumDigits(68))"
   ]
  },
  {
   "cell_type": "code",
   "execution_count": 5,
   "metadata": {},
   "outputs": [
    {
     "name": "stdout",
     "output_type": "stream",
     "text": [
      "['Ankit', 'Ashish', 'Asutosh', 'Ayesh', 'Gudu']\n"
     ]
    }
   ],
   "source": [
    "#Python program to Sort the list in ascending order\n",
    "\n",
    "str = [\"Ayesh\",\"Gudu\",\"Ashish\",\"Asutosh\",\"Ankit\"]\n",
    "str.sort()\n",
    "print(str)"
   ]
  },
  {
   "cell_type": "code",
   "execution_count": 6,
   "metadata": {},
   "outputs": [
    {
     "name": "stdout",
     "output_type": "stream",
     "text": [
      "['Gudu', 'Ayesh', 'Asutosh', 'Ashish', 'Ankit']\n"
     ]
    }
   ],
   "source": [
    "#Python program to Sort the list in descending order\n",
    "\n",
    "str = [\"Ayesh\",\"Gudu\",\"Ashish\",\"Asutosh\",\"Ankit\"]\n",
    "str.sort(reverse = True)\n",
    "print(str)"
   ]
  },
  {
   "cell_type": "code",
   "execution_count": 22,
   "metadata": {},
   "outputs": [
    {
     "name": "stdout",
     "output_type": "stream",
     "text": [
      "Removed Element: Gudu\n"
     ]
    }
   ],
   "source": [
    "#Removes the item at the given index from the list and returns the removed item\n",
    "\n",
    "str = [\"Ayesh\",\"Gudu\",\"Ashish\",\"Asutosh\",\"Ankit\"]\n",
    "removed_element = str.pop(1)\n",
    "print('Removed Element:', removed_element)"
   ]
  },
  {
   "cell_type": "code",
   "execution_count": 8,
   "metadata": {},
   "outputs": [
    {
     "name": "stdout",
     "output_type": "stream",
     "text": [
      "Count of 7: 2\n"
     ]
    }
   ],
   "source": [
    "#Returns the number of times the specified element appears in the list\n",
    "\n",
    "list_1 = [2, 3, 5, 2, 11, 2, 7,7]\n",
    "count = list_1.count(7)\n",
    "print('Count of 7:', count)"
   ]
  },
  {
   "cell_type": "code",
   "execution_count": 9,
   "metadata": {},
   "outputs": [
    {
     "name": "stdout",
     "output_type": "stream",
     "text": [
      "A\n"
     ]
    }
   ],
   "source": [
    "#access first characters in a string\n",
    "\n",
    "string=\"Ayeshkant\"\n",
    "print(string[0])"
   ]
  },
  {
   "cell_type": "code",
   "execution_count": 11,
   "metadata": {},
   "outputs": [
    {
     "name": "stdout",
     "output_type": "stream",
     "text": [
      "e\n"
     ]
    }
   ],
   "source": [
    "#access Last characters in a string\n",
    "\n",
    "string=\"AyeshkantLenka\"\n",
    "print(string[10])"
   ]
  },
  {
   "cell_type": "code",
   "execution_count": 12,
   "metadata": {},
   "outputs": [
    {
     "name": "stdout",
     "output_type": "stream",
     "text": [
      "[0, 2, 4, 6, 8, 10, 12, 14, 16, 18]\n"
     ]
    }
   ],
   "source": [
    "#Generate a list by list comprehension\n",
    "\n",
    "my_list = []\n",
    "for x in range(10):\n",
    "    my_list.append(x * 2)\n",
    "print(my_list)"
   ]
  },
  {
   "cell_type": "code",
   "execution_count": 13,
   "metadata": {},
   "outputs": [
    {
     "name": "stdout",
     "output_type": "stream",
     "text": [
      "['AYE', 'SH', 'KANT']\n"
     ]
    }
   ],
   "source": [
    "#Set the values in the new list to upper case\n",
    "\n",
    "\n",
    "string=[\"AYE\",\"sh\",\"KANT\"]\n",
    "for i in range(len(string)):\n",
    "    string[i]=string[i].upper()\n",
    "print(string)"
   ]
  },
  {
   "cell_type": "code",
   "execution_count": 15,
   "metadata": {},
   "outputs": [
    {
     "name": "stdout",
     "output_type": "stream",
     "text": [
      "['Ankit', 'Ashish', 'Asutosh', 'Ayesh', 'Gudu']\n"
     ]
    }
   ],
   "source": [
    "#Sort the string list alphabetically\n",
    "\n",
    "\n",
    "names = [\"Ayesh\",\"Gudu\",\"Ashish\",\"Asutosh\",\"Ankit\"]\n",
    "names.sort()\n",
    "print(names)"
   ]
  },
  {
   "cell_type": "code",
   "execution_count": 18,
   "metadata": {},
   "outputs": [
    {
     "data": {
      "text/plain": [
       "{'a', 'b', 'c', 'd', 'e', 'f'}"
      ]
     },
     "execution_count": 18,
     "metadata": {},
     "output_type": "execute_result"
    }
   ],
   "source": [
    "#join Two Sets\n",
    "s={'a','b','c'}\n",
    "t={'d','e','f'}\n",
    "join=s|t        \n",
    "join"
   ]
  },
  {
   "cell_type": "code",
   "execution_count": 17,
   "metadata": {},
   "outputs": [
    {
     "data": {
      "text/plain": [
       "{'a'}"
      ]
     },
     "execution_count": 17,
     "metadata": {},
     "output_type": "execute_result"
    }
   ],
   "source": [
    "#keep only the items that are present in both sets\n",
    "\n",
    "s={'a','b','c'}\n",
    "t={'d',2,'a'}\n",
    "common=s&t   \n",
    "common"
   ]
  },
  {
   "cell_type": "code",
   "execution_count": 19,
   "metadata": {},
   "outputs": [
    {
     "data": {
      "text/plain": [
       "{2, 'b', 'c', 'd'}"
      ]
     },
     "execution_count": 19,
     "metadata": {},
     "output_type": "execute_result"
    }
   ],
   "source": [
    "#Keep All items from List But NOT the Duplicates\n",
    "\n",
    "s={'a','b','c'}\n",
    "t={'d',2,'a'}\n",
    "diff=s^t \n",
    "diff"
   ]
  },
  {
   "cell_type": "code",
   "execution_count": 20,
   "metadata": {},
   "outputs": [
    {
     "name": "stdout",
     "output_type": "stream",
     "text": [
      "{'brand': 'Toyota', 'model': 'Fortuner', 'year': 1945}\n"
     ]
    }
   ],
   "source": [
    "#Create and print a dictionary\n",
    "\n",
    "thisdict = {\n",
    "  \"brand\": \"Toyota\",\n",
    "  \"model\": \"Fortuner\",\n",
    "  \"year\": 1945\n",
    "}\n",
    "print(thisdict)"
   ]
  },
  {
   "cell_type": "code",
   "execution_count": 21,
   "metadata": {},
   "outputs": [
    {
     "data": {
      "text/plain": [
       "3"
      ]
     },
     "execution_count": 21,
     "metadata": {},
     "output_type": "execute_result"
    }
   ],
   "source": [
    "#Calculate the length of dictionary\n",
    "\n",
    "len(thisdict)"
   ]
  }
 ],
 "metadata": {
  "kernelspec": {
   "display_name": "Python 3",
   "language": "python",
   "name": "python3"
  },
  "language_info": {
   "codemirror_mode": {
    "name": "ipython",
    "version": 3
   },
   "file_extension": ".py",
   "mimetype": "text/x-python",
   "name": "python",
   "nbconvert_exporter": "python",
   "pygments_lexer": "ipython3",
   "version": "3.8.5"
  }
 },
 "nbformat": 4,
 "nbformat_minor": 4
}
