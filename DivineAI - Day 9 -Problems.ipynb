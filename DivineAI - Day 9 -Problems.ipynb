{
 "cells": [
  {
   "cell_type": "code",
   "execution_count": 3,
   "metadata": {},
   "outputs": [
    {
     "name": "stdout",
     "output_type": "stream",
     "text": [
      "The total terms are: 10\n",
      "Powers of 2 Using Anonymous Function 0 is 1\n",
      "Powers of 2 Using Anonymous Function 1 is 2\n",
      "Powers of 2 Using Anonymous Function 2 is 4\n",
      "Powers of 2 Using Anonymous Function 3 is 8\n",
      "Powers of 2 Using Anonymous Function 4 is 16\n",
      "Powers of 2 Using Anonymous Function 5 is 32\n",
      "Powers of 2 Using Anonymous Function 6 is 64\n",
      "Powers of 2 Using Anonymous Function 7 is 128\n",
      "Powers of 2 Using Anonymous Function 8 is 256\n",
      "Powers of 2 Using Anonymous Function 9 is 512\n"
     ]
    }
   ],
   "source": [
    "#Python Program To Display Powers of 2 Using Anonymous Function Display the powers of 2 using anonymous function\n",
    "\n",
    "n= 10\n",
    "res = list(map(lambda x: 2 ** x, range(n)))\n",
    "print(\"The total terms are:\",n)\n",
    "for i in range(n):\n",
    "    print(\"Powers of 2 Using Anonymous Function\",i,\"is\",res[i])"
   ]
  },
  {
   "cell_type": "code",
   "execution_count": 4,
   "metadata": {},
   "outputs": [
    {
     "name": "stdout",
     "output_type": "stream",
     "text": [
      "Enter decimal number :12\n",
      "Binary number is : 0b1100\n"
     ]
    }
   ],
   "source": [
    "#Python Program to Convert Decimal to Binary\n",
    "\n",
    "n =int(input(\"Enter decimal number :\"))\n",
    "print(\"Binary number is :\", bin(n))  "
   ]
  },
  {
   "cell_type": "code",
   "execution_count": 5,
   "metadata": {},
   "outputs": [
    {
     "name": "stdout",
     "output_type": "stream",
     "text": [
      "Enter decimal no.: 12\n",
      "Binary No.:  0xc\n"
     ]
    }
   ],
   "source": [
    "#Python Program to Convert Decimal to Hexadecimal\n",
    "\n",
    "num =int(input(\"Enter decimal number :\"))\n",
    "print(\"Binary number :\", hex(n))"
   ]
  },
  {
   "cell_type": "code",
   "execution_count": 6,
   "metadata": {},
   "outputs": [
    {
     "name": "stdout",
     "output_type": "stream",
     "text": [
      "A\n"
     ]
    },
    {
     "data": {
      "text/plain": [
       "'D'"
      ]
     },
     "execution_count": 6,
     "metadata": {},
     "output_type": "execute_result"
    }
   ],
   "source": [
    "#Python Program to Find ASCII Value of Character\n",
    "\n",
    "print(chr(65))\n",
    "chr(ord('B')+2)"
   ]
  },
  {
   "cell_type": "code",
   "execution_count": 7,
   "metadata": {},
   "outputs": [
    {
     "name": "stdout",
     "output_type": "stream",
     "text": [
      "Enter no.: 8\n",
      "Enter no.: 10\n",
      "The HCF of  8 & 10 is : 2\n"
     ]
    }
   ],
   "source": [
    "#Python Program to Find HCF or GCD\n",
    "\n",
    "def HCF(x, y):  \n",
    "    if(x > y):  \n",
    "        small = y  \n",
    "    else:  \n",
    "        small = x  \n",
    "    for i in range(1,small + 1):  \n",
    "         if((x % i == 0) and (y % i == 0)):\n",
    "            hcf=i\n",
    "    return hcf\n",
    "num1 = int(input(\"Enter no.: \"))  \n",
    "num2 = int(input(\"Enter no.: \"))  \n",
    "print(\"The HCF of \",num1,\"&\",num2,\"is :\", HCF(num1,num2))"
   ]
  },
  {
   "cell_type": "code",
   "execution_count": 29,
   "metadata": {},
   "outputs": [
    {
     "name": "stdout",
     "output_type": "stream",
     "text": [
      "The HCF is 500\n"
     ]
    }
   ],
   "source": [
    "#Write a python function to find HCf or GCD and return the value using euclidian Algorithm\n",
    "\n",
    "\n",
    "def chcf(x, y):\n",
    "    while(y):\n",
    "        x, y = y, x % y\n",
    "    return x\n",
    "hcf = chcf(1000,500)\n",
    "print(\"The HCF is\", hcf)"
   ]
  },
  {
   "cell_type": "code",
   "execution_count": 13,
   "metadata": {},
   "outputs": [
    {
     "name": "stdout",
     "output_type": "stream",
     "text": [
      "Enter the first number: 50\n",
      "Enter the second number: 100\n",
      "The HCF of two number x and y : 50\n"
     ]
    }
   ],
   "source": [
    "#Write a python program to find HCf or GCD using euclidian Algorithm\n",
    "\n",
    "\n",
    "def find_hcf(x,y):  \n",
    "    while(y):  \n",
    "        x, x = y, x % y  \n",
    "        return x  \n",
    "x = int(input (\"Enter the first number: \") )    \n",
    "y = int(input (\"Enter the second number: \"))     \n",
    "num = find_hcf(x,y)    \n",
    "print(\"The HCF of two number x and y :\",num)  \n"
   ]
  },
  {
   "cell_type": "code",
   "execution_count": 16,
   "metadata": {},
   "outputs": [
    {
     "name": "stdout",
     "output_type": "stream",
     "text": [
      "Enter your 1st Number:50\n",
      "Enter your 2nd Number:100\n",
      "The Lcm of the numbers is : 100\n"
     ]
    }
   ],
   "source": [
    "#write a Python function to Find LCM and return the value\n",
    "\n",
    "def lcm(x, y):\n",
    "    if x > y:\n",
    "        greater = x\n",
    "    else:\n",
    "        greater = y\n",
    "\n",
    "    while(True):\n",
    "        if((greater % x == 0) and (greater % y == 0)):\n",
    "            lcm = greater\n",
    "            break\n",
    "        greater += 1\n",
    "\n",
    "    return lcm\n",
    "\n",
    "num1 = int(input(\"Enter your 1st Number:\"))\n",
    "num2 = int(input(\"Enter your 2nd Number:\"))\n",
    "print(\"The Lcm of the numbers is :\", lcm(num1, num2))"
   ]
  },
  {
   "cell_type": "code",
   "execution_count": 18,
   "metadata": {},
   "outputs": [
    {
     "name": "stdout",
     "output_type": "stream",
     "text": [
      "Enter your 1st Number:20\n",
      "Enter your 2nd Number:40\n",
      "The Lcm of the numbers is : 40\n"
     ]
    }
   ],
   "source": [
    "#Python Program to Compute LCM Using GCD \n",
    "\n",
    "\n",
    "def LCM_gcd(x, y):\n",
    "    while(y):\n",
    "        x, y = y, x % y\n",
    "    return x\n",
    "\n",
    "def lcm(x, y):\n",
    "    lcm = (x*y)//LCM_gcd(x,y)\n",
    "    return lcm\n",
    "num1 = int(input(\"Enter your 1st Number:\"))\n",
    "num2 = int(input(\"Enter your 2nd Number:\"))\n",
    "print(\"The Lcm of the numbers is :\",lcm(num1, num2))"
   ]
  },
  {
   "cell_type": "code",
   "execution_count": 19,
   "metadata": {},
   "outputs": [
    {
     "name": "stdout",
     "output_type": "stream",
     "text": [
      "The factors of 10 are:\n",
      "1\n",
      "2\n",
      "5\n",
      "10\n"
     ]
    }
   ],
   "source": [
    "#Python funcction to Find the Factors of a Number\n",
    "\n",
    "\n",
    "def factors(n):\n",
    "    print(\"The factors of\",n,\"are:\")\n",
    "    for i in range(1, n + 1):\n",
    "        if(n % i == 0):\n",
    "            print(i)\n",
    "factors(10)"
   ]
  },
  {
   "cell_type": "code",
   "execution_count": 23,
   "metadata": {},
   "outputs": [
    {
     "name": "stdout",
     "output_type": "stream",
     "text": [
      "Select operation.\n",
      "1.Add\n",
      "2.Subtract\n",
      "3.Multiply\n",
      "4.Divide\n",
      "Enter your choice of operation(1/2/3/4): 2\n",
      "Enter your first number: 100\n",
      "Enter your second number: 50\n",
      "100.0 - 50.0 = 50.0\n"
     ]
    }
   ],
   "source": [
    "#Python Program to Make a Simple Calculator\n",
    "\n",
    "\n",
    "def add(x, y):            \n",
    "    return x + y\n",
    "\n",
    "def sub(x, y):      \n",
    "    return x - y\n",
    "\n",
    "def mult(x, y):       \n",
    "    return x * y\n",
    "\n",
    "def div(x, y):        \n",
    "    return x / y\n",
    "\n",
    "\n",
    "print(\"Select operation.\")\n",
    "print(\"1.Add\")\n",
    "print(\"2.Subtract\")\n",
    "print(\"3.Multiply\")\n",
    "print(\"4.Divide\")\n",
    "while True:\n",
    "    choice = input(\"Enter your choice of operation(1/2/3/4): \")\n",
    "    if choice in ('1', '2', '3', '4'):\n",
    "        \n",
    "        num1 = float(input(\"Enter your first number: \"))\n",
    "        num2 = float(input(\"Enter your second number: \"))\n",
    "\n",
    "        if choice == '1':\n",
    "            print(num1, \"+\", num2, \"=\", add(num1, num2))\n",
    "\n",
    "        elif choice == '2':\n",
    "            print(num1, \"-\", num2, \"=\", sub(num1, num2))\n",
    "\n",
    "        elif choice == '3':\n",
    "            print(num1, \"*\", num2, \"=\", mult(num1, num2))\n",
    "\n",
    "        elif choice == '4':\n",
    "            print(num1, \"/\", num2, \"=\", div(num1, num2))\n",
    "        break\n",
    "    else:\n",
    "        print(\"It is a Invalid Input\")"
   ]
  },
  {
   "cell_type": "code",
   "execution_count": 25,
   "metadata": {},
   "outputs": [
    {
     "name": "stdout",
     "output_type": "stream",
     "text": [
      "Enter your Number:10\n",
      "Fibonacci sequence:\n",
      "0\n",
      "1\n",
      "1\n",
      "2\n",
      "3\n",
      "5\n",
      "8\n",
      "13\n",
      "21\n",
      "34\n"
     ]
    }
   ],
   "source": [
    "#Python Program to Display Fibonacci Sequence Using Recursion\n",
    "\n",
    "\n",
    "def fibonacci(n):\n",
    "    if n <= 1:\n",
    "        return n\n",
    "    else:\n",
    "        return(fibonacci(n-1) + fibonacci(n-2))\n",
    "num = int(input(\"Enter your Number:\"))\n",
    "if num <= 0:\n",
    "    print(\"Enter +ve no.:\")\n",
    "else:\n",
    "    print(\"Fibonacci sequence:\")\n",
    "    for i in range(num):\n",
    "        print(fibonacci(i))"
   ]
  },
  {
   "cell_type": "code",
   "execution_count": 26,
   "metadata": {},
   "outputs": [
    {
     "name": "stdout",
     "output_type": "stream",
     "text": [
      "Enter your Number :10\n",
      "The sum is 55\n"
     ]
    }
   ],
   "source": [
    "#Python Program to Find Sum of Natural Numbers Using Recursion\n",
    "\n",
    "\n",
    "def nsum(n):\n",
    "    if(n <= 1):\n",
    "        return n\n",
    "    else:\n",
    "        return n + nsum(n-1)\n",
    "num = int(input(\"Enter your Number :\"))\n",
    "if(num < 0):\n",
    "    print(\"Enter a positive number\")\n",
    "else:\n",
    "    print(\"The sum is\",nsum(num))"
   ]
  },
  {
   "cell_type": "code",
   "execution_count": 30,
   "metadata": {},
   "outputs": [
    {
     "data": {
      "text/plain": [
       "120"
      ]
     },
     "execution_count": 30,
     "metadata": {},
     "output_type": "execute_result"
    }
   ],
   "source": [
    "#Python Program to Find Factorial of Number Using Recursion\n",
    "\n",
    "\n",
    "def fact(n):\n",
    "    if n==0:\n",
    "        return 1\n",
    "    else:\n",
    "        return n*fact(n-1)\n",
    "fact(5)"
   ]
  },
  {
   "cell_type": "code",
   "execution_count": 31,
   "metadata": {},
   "outputs": [
    {
     "name": "stdout",
     "output_type": "stream",
     "text": [
      "[10, 10, 10]\n",
      "[10, 10, 10]\n",
      "[10, 10, 10]\n"
     ]
    }
   ],
   "source": [
    "#Python Program to Add Two Matrices\n",
    "\n",
    "\n",
    "x = [[1,2,3],\n",
    "    [4 ,5,6],\n",
    "    [7 ,8,9]]\n",
    "y = [[9,8,7],\n",
    "    [6,5,4],\n",
    "    [3,2,1]]\n",
    "res=[[0,0,0],\n",
    "    [0,0,0],\n",
    "    [0,0,0]]\n",
    "for i in range (len(x)):\n",
    "    for j in range (len(x[0])):\n",
    "        result[i][j]=x[i][j]+y[i][j]\n",
    "for n in result:\n",
    "     print(n)"
   ]
  },
  {
   "cell_type": "code",
   "execution_count": 32,
   "metadata": {},
   "outputs": [
    {
     "name": "stdout",
     "output_type": "stream",
     "text": [
      "[10, 8, 6]\n",
      "[14, 16, 18]\n",
      "[20, 22, 24]\n"
     ]
    }
   ],
   "source": [
    "#Python Program to Add Two Matrices using Nested List comprehension\n",
    "\n",
    "\n",
    "x = [[5,4,3],\n",
    "    [7 ,8,9],\n",
    "    [10 ,11,12]]\n",
    "y = [[12,11,10],\n",
    "    [9,8,7],\n",
    "    [3,4,5]]\n",
    "result = [[x[i][j] + x[i][j]  for j in range(len(x[0]))] for i in range(len(x))]\n",
    "for n in result:\n",
    "    print(n)"
   ]
  },
  {
   "cell_type": "code",
   "execution_count": 34,
   "metadata": {},
   "outputs": [
    {
     "name": "stdout",
     "output_type": "stream",
     "text": [
      "[10, 7, 4]\n",
      "[9, 6, 3]\n",
      "[8, 5, 2]\n"
     ]
    }
   ],
   "source": [
    "#Python Program to Transpose a Matrix using Nested Loop\n",
    "\n",
    "\n",
    "x = [[10,9,8],\n",
    "    [7,6,5],\n",
    "    [4,3,2]]\n",
    "res=[[0,0,0],\n",
    "    [0,0,0],\n",
    "    [0,0,0]]\n",
    "for i in range(len(x)):\n",
    "    for j in range(len(x[0])):\n",
    "        result[j][i]=x[i][j]\n",
    "for n in result:\n",
    "    print(n)"
   ]
  },
  {
   "cell_type": "code",
   "execution_count": 35,
   "metadata": {},
   "outputs": [
    {
     "name": "stdout",
     "output_type": "stream",
     "text": [
      "[10, 7, 4]\n",
      "[9, 6, 3]\n",
      "[8, 5, 2]\n"
     ]
    }
   ],
   "source": [
    "#Python Program to Transpose a Matrix using Nested List Comprehension\n",
    "\n",
    "\n",
    "x = [[10,9,8],\n",
    "    [7,6,5],\n",
    "    [4,3,2]]\n",
    "result= [[x[j][i] for j in range(len(x))] for i in range(len(x[0]))]\n",
    "\n",
    "for n in result:\n",
    "    print(n)"
   ]
  },
  {
   "cell_type": "code",
   "execution_count": 36,
   "metadata": {},
   "outputs": [
    {
     "name": "stdout",
     "output_type": "stream",
     "text": [
      "String is not a Palindrome\n"
     ]
    }
   ],
   "source": [
    "#Python Program to Check Whether a String is Palindrome or Not\n",
    "\n",
    "\n",
    "my_str='tOyLAnD'\n",
    "my_str=my_str.casefold()\n",
    "rev_str=reversed(my_str)\n",
    "if list(my_str)==list(rev_str):\n",
    "    print(\"String is Palindrome\")\n",
    "else:\n",
    "    print(\"String is not a Palindrome\")"
   ]
  },
  {
   "cell_type": "code",
   "execution_count": 39,
   "metadata": {},
   "outputs": [
    {
     "name": "stdout",
     "output_type": "stream",
     "text": [
      "Hello my name is Ayeshkant  and i spent a day well\n"
     ]
    }
   ],
   "source": [
    "#Python Program to Remove Punctuations From a String\n",
    "\n",
    "\n",
    "punctuations = '''!()-[]{};:,'\"\\,<>./?@#$%^&*_~'''\n",
    "my_str = \"Hello!!!, my name is Ayeshkant --- and i s\\\\pent a day well.\"\n",
    "no_punct =\"\"\n",
    "for char in my_str:      \n",
    "    if char not in punctuations:\n",
    "        no_punct = no_punct + char\n",
    "print(no_punct)"
   ]
  },
  {
   "cell_type": "code",
   "execution_count": 41,
   "metadata": {},
   "outputs": [
    {
     "name": "stdout",
     "output_type": "stream",
     "text": [
      "Sorted words: \n",
      "ayeshkant\n",
      "hello\n",
      "is\n",
      "my\n",
      "name\n"
     ]
    }
   ],
   "source": [
    "#Python Program to Sort Words in Alphabetic Order\n",
    "\n",
    "my_str=\"Hello my name is Ayeshkant\"\n",
    "words=[word.lower() for word in my_str.split()]\n",
    "words.sort()\n",
    "print(\"Sorted words: \")\n",
    "for word in words:\n",
    "    print(word)"
   ]
  },
  {
   "cell_type": "code",
   "execution_count": 42,
   "metadata": {},
   "outputs": [
    {
     "name": "stdout",
     "output_type": "stream",
     "text": [
      "Intersection :  {9, 7}\n",
      "Union :  {0, 2, 3, 4, 5, 7, 8, 9}\n",
      "Difference :  {0, 4, 5}\n",
      "Symmetric difference :  {0, 2, 3, 4, 5, 8}\n"
     ]
    }
   ],
   "source": [
    "#Python Program to Illustrate Different Set Operations\n",
    "\n",
    "\n",
    "a={0,5,7,9,4}\n",
    "b={3,7,8,9,2}\n",
    "print(\"Intersection : \",a&b)\n",
    "print(\"Union : \",a|b)\n",
    "print(\"Difference : \",a-b)\n",
    "print(\"Symmetric difference : \",a^b)"
   ]
  },
  {
   "cell_type": "code",
   "execution_count": 43,
   "metadata": {},
   "outputs": [
    {
     "name": "stdout",
     "output_type": "stream",
     "text": [
      "{'a': 6, 'e': 5, 'i': 4, 'o': 1, 'u': 0}\n"
     ]
    }
   ],
   "source": [
    "#Python Program to Count the Number of Each Vowel\n",
    "\n",
    "\n",
    "vowels='aeiou'\n",
    "my_str='Hello my name is Ayeshkant , I spent a day well with my family'\n",
    "my_str=my_str.casefold() \n",
    "count={}.fromkeys(vowels,0)\n",
    "for char in my_str:      \n",
    "    if char in count:\n",
    "        count[char] +=1\n",
    "print(count)"
   ]
  },
  {
   "cell_type": "code",
   "execution_count": 44,
   "metadata": {},
   "outputs": [
    {
     "name": "stdout",
     "output_type": "stream",
     "text": [
      "{'a': 6, 'e': 5, 'i': 4, 'o': 1, 'u': 0}\n"
     ]
    }
   ],
   "source": [
    "#Python Program to Count the Number of Each Vowel Using a list and a dictionary comprehension\n",
    "\n",
    "\n",
    "my_str='Hello my name is Ayeshkant , I spent a day well with my family'\n",
    "my_str=my_str.casefold()   \n",
    "count={x:sum([1 for char in my_str if char==x]) for x in 'aeiou'}\n",
    "print(count)"
   ]
  }
 ],
 "metadata": {
  "kernelspec": {
   "display_name": "Python 3",
   "language": "python",
   "name": "python3"
  },
  "language_info": {
   "codemirror_mode": {
    "name": "ipython",
    "version": 3
   },
   "file_extension": ".py",
   "mimetype": "text/x-python",
   "name": "python",
   "nbconvert_exporter": "python",
   "pygments_lexer": "ipython3",
   "version": "3.8.5"
  }
 },
 "nbformat": 4,
 "nbformat_minor": 4
}
