{
 "cells": [
  {
   "cell_type": "code",
   "execution_count": 17,
   "metadata": {},
   "outputs": [
    {
     "name": "stdout",
     "output_type": "stream",
     "text": [
      "Enter a number : 153\n",
      "It is a Armstrong Number\n"
     ]
    }
   ],
   "source": [
    "#Python Program to Check Armstrong Number (for 3 digits)\n",
    "\n",
    "n = int(input(\"Enter a number : \"))\n",
    "sum = 0\n",
    "temp = n\n",
    "while temp>0:\n",
    "    digit = temp%10\n",
    "    sum = sum+digit**3\n",
    "    temp = temp//10\n",
    "if n==sum:\n",
    "    print(\"It is a Armstrong Number\")\n",
    "else:\n",
    "    print(\"It is not a Armstrong Number\")\n",
    "    "
   ]
  },
  {
   "cell_type": "code",
   "execution_count": 8,
   "metadata": {},
   "outputs": [
    {
     "name": "stdout",
     "output_type": "stream",
     "text": [
      "Enter a number : 121\n",
      "10\n"
     ]
    }
   ],
   "source": [
    "#Python Program to find the sum of the cube of each digit\n",
    "\n",
    "num = int(input(\"Enter a number : \"))\n",
    "sum = 0\n",
    "while num>0:\n",
    "    digit = num%10\n",
    "    sum = sum+digit**3\n",
    "    num = num//10\n",
    "print(str(sum))\n",
    "    "
   ]
  },
  {
   "cell_type": "code",
   "execution_count": 18,
   "metadata": {},
   "outputs": [
    {
     "name": "stdout",
     "output_type": "stream",
     "text": [
      "Enter the lowest  number : 1\n",
      "Enter the highest number : 1000\n",
      "1\n",
      "153\n",
      "370\n",
      "371\n",
      "407\n"
     ]
    }
   ],
   "source": [
    "#Python Program to Find Armstrong Number in an Interval\n",
    "\n",
    "low_num  = int(input(\"Enter the lowest  number : \"))\n",
    "high_num = int(input(\"Enter the highest number : \"))\n",
    "for i in range(low_num,high_num+1):\n",
    "    sum = 0\n",
    "    temp = i\n",
    "    while temp>0:\n",
    "        digit = temp%10\n",
    "        sum = sum+digit**3\n",
    "        temp = temp//10   \n",
    "    if i==sum:\n",
    "        print(str(sum))\n",
    "   "
   ]
  },
  {
   "cell_type": "code",
   "execution_count": 41,
   "metadata": {},
   "outputs": [
    {
     "name": "stdout",
     "output_type": "stream",
     "text": [
      "Enter a number : 12\n",
      "78\n"
     ]
    }
   ],
   "source": [
    "#Python Program to Find the Sum of Natural Numbers\n",
    "\n",
    "num  = int(input(\"Enter a number : \"))\n",
    "if num < 0:\n",
    "    print(\"Enter a positive number\")\n",
    "else:\n",
    "    sum = 0\n",
    "    while(num > 0):\n",
    "        sum += num\n",
    "        num -= 1\n",
    "    print(sum)"
   ]
  },
  {
   "cell_type": "code",
   "execution_count": 47,
   "metadata": {},
   "outputs": [
    {
     "name": "stdout",
     "output_type": "stream",
     "text": [
      "Enter a number10\n",
      "Number is divisible by Another Number\n"
     ]
    }
   ],
   "source": [
    "#Python Program to Find Numbers Divisible by Another Number\n",
    "\n",
    "n = int(input(\"Enter a number\"))\n",
    "for i in range(1,101):\n",
    "    if n%i==0:\n",
    "        print(\"Number is divisible by Another Number\")\n",
    "        break\n",
    "    else:\n",
    "        print(\"Number is not divisible by Another Number\")\n",
    "        break"
   ]
  }
 ],
 "metadata": {
  "kernelspec": {
   "display_name": "Python 3",
   "language": "python",
   "name": "python3"
  },
  "language_info": {
   "codemirror_mode": {
    "name": "ipython",
    "version": 3
   },
   "file_extension": ".py",
   "mimetype": "text/x-python",
   "name": "python",
   "nbconvert_exporter": "python",
   "pygments_lexer": "ipython3",
   "version": "3.8.5"
  }
 },
 "nbformat": 4,
 "nbformat_minor": 4
}
