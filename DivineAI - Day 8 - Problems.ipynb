{
 "cells": [
  {
   "cell_type": "code",
   "execution_count": 4,
   "metadata": {},
   "outputs": [
    {
     "name": "stdout",
     "output_type": "stream",
     "text": [
      "Enter your number:2\n",
      "2*1=2\n",
      "2*2=4\n",
      "2*3=6\n",
      "2*4=8\n",
      "2*5=10\n",
      "2*6=12\n",
      "2*7=14\n",
      "2*8=16\n",
      "2*9=18\n",
      "2*10=20\n"
     ]
    }
   ],
   "source": [
    "#WAP to print table of n, where n is entered by the user\n",
    "\n",
    "n = int(input(\"Enter your number:\"))\n",
    "for i in range(1,11):\n",
    "    print(str(n)+\"*\"+str(i)+\"=\"+str(n*i))"
   ]
  },
  {
   "cell_type": "code",
   "execution_count": 19,
   "metadata": {},
   "outputs": [
    {
     "name": "stdout",
     "output_type": "stream",
     "text": [
      "Enter your number :16\n",
      "136\n"
     ]
    }
   ],
   "source": [
    "#WAP to print sum of n natural numbers, where n is entered by the user\n",
    "\n",
    "num = int(input(\"Enter your number :\"))\n",
    "sum=0\n",
    "for i in range(1,num+1):\n",
    "    if num>0:\n",
    "        sum=sum+num\n",
    "        num=num-1\n",
    "print(sum)\n",
    "    "
   ]
  },
  {
   "cell_type": "code",
   "execution_count": 32,
   "metadata": {},
   "outputs": [
    {
     "data": {
      "text/plain": [
       "120"
      ]
     },
     "execution_count": 32,
     "metadata": {},
     "output_type": "execute_result"
    }
   ],
   "source": [
    "#WAP to print the factorial of the given number, where number is entered by the user. \n",
    "\n",
    "def fact(n):\n",
    "    if n==0:\n",
    "        return 1\n",
    "    else:\n",
    "        return n*fact(n-1)\n",
    "fact(5)"
   ]
  },
  {
   "cell_type": "code",
   "execution_count": null,
   "metadata": {},
   "outputs": [],
   "source": [
    "#WAP to input sales of the month and calculate the average sales of that month\n",
    "\n",
    "n = [int(n) for n in input(\"Enter multiple value: \").split(\",\")]\n",
    "sum=0\n",
    "for i in range(list[n]):\n",
    "    avg=(sum+i)/2   \n",
    "print(avg)"
   ]
  }
 ],
 "metadata": {
  "kernelspec": {
   "display_name": "Python 3",
   "language": "python",
   "name": "python3"
  },
  "language_info": {
   "codemirror_mode": {
    "name": "ipython",
    "version": 3
   },
   "file_extension": ".py",
   "mimetype": "text/x-python",
   "name": "python",
   "nbconvert_exporter": "python",
   "pygments_lexer": "ipython3",
   "version": "3.8.5"
  }
 },
 "nbformat": 4,
 "nbformat_minor": 4
}
